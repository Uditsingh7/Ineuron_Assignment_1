{
 "cells": [
  {
   "cell_type": "markdown",
   "metadata": {},
   "source": [
    "# 1. In the below elements which of them are values or an expression? eg:- values can be integer or string and expressions will be mathematical operators."
   ]
  },
  {
   "cell_type": "markdown",
   "metadata": {},
   "source": [
    "###### 1. * :- Expression (Mathematical Operator)\n",
    "\n",
    "###### 2. 'hello' :- Value  (String)\n",
    "\n",
    "###### 3. -87.8 :- Value (Float)\n",
    "\n",
    "###### 4. - :- Expression (Mathematical Operator)\n",
    "\n",
    "###### 5. / :- Expression (Mathematical Operator)\n",
    "\n",
    "###### 6. + :- Expression (Mathematical Operator)\n",
    "\n",
    "###### 7. 6 :- Value (Integer)"
   ]
  },
  {
   "cell_type": "markdown",
   "metadata": {},
   "source": [
    "# 2. What is the difference between string and variable?"
   ]
  },
  {
   "cell_type": "markdown",
   "metadata": {},
   "source": [
    "The string is  nothing but a collection or list of a characters.\n",
    "A character is anything you can type on the keyboard in one keystroke, like a letter, a number, or a backslash. For example, \"Vectoroad\" is a string.\n",
    "There are three ways you can declare a string in Python: single quotes ('), double quotes (\"), and triple quotes (\"\"\"). In all cases, you start and end the string with your chosen string declaration.\n",
    "For example:-\n",
    "print(\"My name is Vectoroad\")\n",
    "\n",
    "A variable is something that stores data or value. It can store a string, int, float, class, etc.\n",
    "For example:-\n",
    "It can store integer\n",
    "store_int = 123, here store_int is a variable which stores the value 123  to some location in memory. Which can be modified at any times.\n",
    "It can be of any data type e.g. List, Dict, Tuple, Int, String etc."
   ]
  },
  {
   "cell_type": "markdown",
   "metadata": {},
   "source": [
    "# 3. Describe three different data types."
   ]
  },
  {
   "cell_type": "markdown",
   "metadata": {},
   "source": [
    "1. Integers:- It is represented by int class in python. It contains whole numbers including both postive and negetive numbers but excluding decimal or fraction numbers. e.g. 1234, 789, 12. In python there is no limit how long an int value can be.\n",
    "\n",
    "2. Float:- It is represented by float class in python. It contains real numbers including postive and negative numbers with decimal and fraction values. e.g. 123.12, 0.987, 1214.0. \n",
    "\n",
    "3. List. It is represented by list class in python. It is a collection of data which can be of any data type. It acts like an array but store values of different data type into on list variable. e.g. ran_list = [1, \"i\", 1.2, 1j], "
   ]
  },
  {
   "cell_type": "markdown",
   "metadata": {},
   "source": [
    "# 4. What is an expression made up of? What do all expressions do?"
   ]
  },
  {
   "cell_type": "markdown",
   "metadata": {},
   "source": [
    "An expression is made up of values, variables, operators and calls to functions. Expression needs to be assessed. \n",
    "\n",
    "In Python to print an expression, the interpreter evaluates the expression and displays the result.\n",
    "\n",
    "For example:-\n",
    "\n",
    "print(2+2) // Here 2+2 is an expression\n",
    "\n",
    "Result:- 4"
   ]
  },
  {
   "cell_type": "markdown",
   "metadata": {},
   "source": [
    "# 5. This assignment statements, like spam = 10. What is the difference between an expression and a statement?"
   ]
  },
  {
   "cell_type": "markdown",
   "metadata": {},
   "source": [
    "A statement is command that the Python interpreter can understand and execute. \n",
    "\n",
    "Some examples of statements are while statements, for statements, if else statements, import statements etc.\n",
    "\n",
    "While expression is an combination of values, variables, operators, call fucntions. e.g. print(12 * \"*\" )"
   ]
  },
  {
   "cell_type": "markdown",
   "metadata": {},
   "source": [
    "# 6. After running the following code, what does the variable bacon contain?\n",
    "### bacon = 22\n",
    "### bacon + 1"
   ]
  },
  {
   "cell_type": "markdown",
   "metadata": {},
   "source": [
    "bacon = 22\n",
    "\n",
    "bacon + 1\n",
    "\n",
    "The variable bacon contains value 22 as it has not added the value inside the variable."
   ]
  },
  {
   "cell_type": "markdown",
   "metadata": {},
   "source": [
    "# 7. What should the values of the following two terms be?\n",
    "'spam' + 'spamspam'\n",
    "\n",
    "'spam' * 3"
   ]
  },
  {
   "cell_type": "code",
   "execution_count": 3,
   "metadata": {},
   "outputs": [
    {
     "data": {
      "text/plain": [
       "'spamspamspam'"
      ]
     },
     "execution_count": 3,
     "metadata": {},
     "output_type": "execute_result"
    }
   ],
   "source": [
    "'spam' + 'spamspam'"
   ]
  },
  {
   "cell_type": "code",
   "execution_count": 4,
   "metadata": {},
   "outputs": [
    {
     "data": {
      "text/plain": [
       "'spamspamspam'"
      ]
     },
     "execution_count": 4,
     "metadata": {},
     "output_type": "execute_result"
    }
   ],
   "source": [
    "'spam'*3"
   ]
  },
  {
   "cell_type": "markdown",
   "metadata": {},
   "source": [
    "# 8. Why is eggs a valid variable name while 100 is invalid?"
   ]
  },
  {
   "cell_type": "markdown",
   "metadata": {},
   "source": [
    "Yes, eggs is a valid variable as any other letter. \n",
    "A valid variable name starts with a letter, followed by letter, digits or underscores. And it is also case senstive.\n",
    "\n",
    "And 100 is not an valid because it entirely digit, whereas valid variable should start with letter followed by digits or underscore.\n",
    "It can be for e.g. int_100 (valid variable)"
   ]
  },
  {
   "cell_type": "markdown",
   "metadata": {},
   "source": [
    "# 9. What three functions can be used to get the integer, floating-point number, or string version of a value?"
   ]
  },
  {
   "cell_type": "markdown",
   "metadata": {},
   "source": [
    "1. The function to get the integer:- int()\n",
    "\n",
    "2. The function to get the float:- float()\n",
    "\n",
    "3. The function to get the string:- str()"
   ]
  },
  {
   "cell_type": "markdown",
   "metadata": {},
   "source": [
    "# 10. Why does this expression cause an error? How can you fix it?\n",
    "'I have eaten' + 99 + 'burritos'"
   ]
  },
  {
   "cell_type": "markdown",
   "metadata": {},
   "source": [
    "It will throw a TypeError as it can only concatenate string (not \"int\") to string.\n",
    "\n",
    "Fix: we convert 99 into string by using string function str(99).\n",
    "\n",
    "This would fix the error"
   ]
  },
  {
   "cell_type": "code",
   "execution_count": null,
   "metadata": {},
   "outputs": [],
   "source": []
  }
 ],
 "metadata": {
  "kernelspec": {
   "display_name": "Python 3",
   "language": "python",
   "name": "python3"
  },
  "language_info": {
   "codemirror_mode": {
    "name": "ipython",
    "version": 3
   },
   "file_extension": ".py",
   "mimetype": "text/x-python",
   "name": "python",
   "nbconvert_exporter": "python",
   "pygments_lexer": "ipython3",
   "version": "3.7.6"
  }
 },
 "nbformat": 4,
 "nbformat_minor": 4
}
